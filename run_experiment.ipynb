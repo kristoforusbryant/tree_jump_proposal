{
 "cells": [
  {
   "cell_type": "code",
   "execution_count": 2,
   "metadata": {},
   "outputs": [
    {
     "name": "stdout",
     "output_type": "stream",
     "text": [
      "The autoreload extension is already loaded. To reload it, use:\n",
      "  %reload_ext autoreload\n"
     ]
    }
   ],
   "source": [
    "import numpy as np \n",
    "import networkx as nx \n",
    "import matplotlib.pyplot as plt\n",
    "import pickle\n",
    "import time\n",
    "from utils.brute_force import count_spanning_partitions_brute\n",
    "from utils.dp_solution import count_spanning_partitions\n",
    "\n",
    "%load_ext autoreload\n",
    "%autoreload 2"
   ]
  },
  {
   "cell_type": "code",
   "execution_count": 3,
   "metadata": {},
   "outputs": [],
   "source": [
    "infile = open('data/simulation_graphs.pkl','rb')\n",
    "Graphs = pickle.load(infile)\n",
    "infile.close()"
   ]
  },
  {
   "cell_type": "code",
   "execution_count": 4,
   "metadata": {
    "scrolled": true
   },
   "outputs": [
    {
     "data": {
      "image/png": "[encoded data removed]",
      "text/plain": [
       "<Figure size 432x288 with 1 Axes>"
      ]
     },
     "metadata": {},
     "output_type": "display_data"
    }
   ],
   "source": [
    "nx.draw_shell(Graphs[0][0])"
   ]
  },
  {
   "cell_type": "code",
   "execution_count": 4,
   "metadata": {},
   "outputs": [],
   "source": [
    "infile = open('data/simulation_results','rb')\n",
    "result = pickle.load(infile)\n",
    "infile.close()"
   ]
  },
  {
   "cell_type": "code",
   "execution_count": 5,
   "metadata": {
    "scrolled": true
   },
   "outputs": [
    {
     "data": {
      "text/plain": [
       "{0: {'n': 5,\n",
       "  'm': 9,\n",
       "  'k': 3,\n",
       "  'brute_count': 6834,\n",
       "  'brute_time': 0.10908746719360352,\n",
       "  'dp_count': 6834,\n",
       "  'dp_time': 0.27042293548583984},\n",
       " 1: {'n': 6,\n",
       "  'm': 13,\n",
       "  'k': 3,\n",
       "  'brute_count': 103776,\n",
       "  'brute_time': 40.15785050392151,\n",
       "  'dp_count': 103776,\n",
       "  'dp_time': 51.33742904663086},\n",
       " 2: {'n': 7,\n",
       "  'm': 14,\n",
       "  'k': 3,\n",
       "  'brute_count': 1042480,\n",
       "  'brute_time': 202.67809581756592,\n",
       "  'dp_count': 1042480,\n",
       "  'dp_time': 125.103759765625},\n",
       " 3: {'n': 10,\n",
       "  'm': 16,\n",
       "  'k': 2,\n",
       "  'brute_count': 1152,\n",
       "  'brute_time': 2.3871009349823,\n",
       "  'dp_count': 1152,\n",
       "  'dp_time': 262.17098927497864}}"
      ]
     },
     "execution_count": 5,
     "metadata": {},
     "output_type": "execute_result"
    }
   ],
   "source": [
    "result"
   ]
  },
  {
   "cell_type": "code",
   "execution_count": null,
   "metadata": {},
   "outputs": [],
   "source": [
    "%%time \n",
    "c = count_spanning_partitions_brute(Graphs[3][0], 3)\n",
    "print(c)"
   ]
  },
  {
   "cell_type": "code",
   "execution_count": null,
   "metadata": {},
   "outputs": [],
   "source": [
    "%%time \n",
    "c = count_spanning_partitions_brute(Graphs[3][0], 3)\n",
    "print(c)"
   ]
  },
  {
   "cell_type": "code",
   "execution_count": 7,
   "metadata": {
    "scrolled": true
   },
   "outputs": [
    {
     "name": "stderr",
     "output_type": "stream",
     "text": [
      "/mnt/c/Users/Kristoforus/Desktop/Y4S1/Capstone/tree_jump_proposal/utils/dp_solution.py:11: ComplexWarning: Casting complex values to real discards the imaginary part\n",
      "  return int(np.round(np.prod(eigv[eigv > 0.0000001])/L.shape[0]))\n",
      "/mnt/c/Users/Kristoforus/Desktop/Y4S1/Capstone/tree_jump_proposal/utils/dp_solution.py:11: ComplexWarning: Casting complex values to real discards the imaginary part\n",
      "  return int(np.round(np.prod(eigv[eigv > 0.0000001])/L.shape[0]))\n",
      "/mnt/c/Users/Kristoforus/Desktop/Y4S1/Capstone/tree_jump_proposal/utils/dp_solution.py:11: ComplexWarning: Casting complex values to real discards the imaginary part\n",
      "  return int(np.round(np.prod(eigv[eigv > 0.0000001])/L.shape[0]))\n",
      "/mnt/c/Users/Kristoforus/Desktop/Y4S1/Capstone/tree_jump_proposal/utils/dp_solution.py:11: ComplexWarning: Casting complex values to real discards the imaginary part\n",
      "  return int(np.round(np.prod(eigv[eigv > 0.0000001])/L.shape[0]))\n",
      "/mnt/c/Users/Kristoforus/Desktop/Y4S1/Capstone/tree_jump_proposal/utils/dp_solution.py:11: ComplexWarning: Casting complex values to real discards the imaginary part\n",
      "  return int(np.round(np.prod(eigv[eigv > 0.0000001])/L.shape[0]))\n",
      "/mnt/c/Users/Kristoforus/Desktop/Y4S1/Capstone/tree_jump_proposal/utils/dp_solution.py:11: ComplexWarning: Casting complex values to real discards the imaginary part\n",
      "  return int(np.round(np.prod(eigv[eigv > 0.0000001])/L.shape[0]))\n",
      "/mnt/c/Users/Kristoforus/Desktop/Y4S1/Capstone/tree_jump_proposal/utils/dp_solution.py:11: ComplexWarning: Casting complex values to real discards the imaginary part\n",
      "  return int(np.round(np.prod(eigv[eigv > 0.0000001])/L.shape[0]))\n",
      "/mnt/c/Users/Kristoforus/Desktop/Y4S1/Capstone/tree_jump_proposal/utils/dp_solution.py:11: ComplexWarning: Casting complex values to real discards the imaginary part\n",
      "  return int(np.round(np.prod(eigv[eigv > 0.0000001])/L.shape[0]))\n",
      "/mnt/c/Users/Kristoforus/Desktop/Y4S1/Capstone/tree_jump_proposal/utils/dp_solution.py:11: ComplexWarning: Casting complex values to real discards the imaginary part\n",
      "  return int(np.round(np.prod(eigv[eigv > 0.0000001])/L.shape[0]))\n",
      "/mnt/c/Users/Kristoforus/Desktop/Y4S1/Capstone/tree_jump_proposal/utils/dp_solution.py:11: ComplexWarning: Casting complex values to real discards the imaginary part\n",
      "  return int(np.round(np.prod(eigv[eigv > 0.0000001])/L.shape[0]))\n",
      "/mnt/c/Users/Kristoforus/Desktop/Y4S1/Capstone/tree_jump_proposal/utils/dp_solution.py:11: ComplexWarning: Casting complex values to real discards the imaginary part\n",
      "  return int(np.round(np.prod(eigv[eigv > 0.0000001])/L.shape[0]))\n",
      "/mnt/c/Users/Kristoforus/Desktop/Y4S1/Capstone/tree_jump_proposal/utils/dp_solution.py:11: ComplexWarning: Casting complex values to real discards the imaginary part\n",
      "  return int(np.round(np.prod(eigv[eigv > 0.0000001])/L.shape[0]))\n",
      "/mnt/c/Users/Kristoforus/Desktop/Y4S1/Capstone/tree_jump_proposal/utils/dp_solution.py:11: ComplexWarning: Casting complex values to real discards the imaginary part\n",
      "  return int(np.round(np.prod(eigv[eigv > 0.0000001])/L.shape[0]))\n",
      "/mnt/c/Users/Kristoforus/Desktop/Y4S1/Capstone/tree_jump_proposal/utils/dp_solution.py:11: ComplexWarning: Casting complex values to real discards the imaginary part\n",
      "  return int(np.round(np.prod(eigv[eigv > 0.0000001])/L.shape[0]))\n"
     ]
    },
    {
     "name": "stdout",
     "output_type": "stream",
     "text": [
      "67042764\n",
      "CPU times: user 6min 24s, sys: 2.41 s, total: 6min 27s\n",
      "Wall time: 6min 31s\n"
     ]
    }
   ],
   "source": [
    "%%time \n",
    "c, _ = count_spanning_partitions(Graphs[3][0], 3, {})\n",
    "print(c)"
   ]
  },
  {
   "cell_type": "code",
   "execution_count": 16,
   "metadata": {},
   "outputs": [],
   "source": [
    "result = {}"
   ]
  },
  {
   "cell_type": "code",
   "execution_count": null,
   "metadata": {
    "scrolled": true
   },
   "outputs": [
    {
     "name": "stdout",
     "output_type": "stream",
     "text": [
      "Running brute force method: 0\n",
      "Running dp method0\n",
      "Running brute force method: 1\n",
      "Running dp method1\n"
     ]
    },
    {
     "name": "stderr",
     "output_type": "stream",
     "text": [
      "/mnt/c/Users/Kristoforus/Desktop/Y4S1/Capstone/tree_jump_proposal/utils/dp_solution.py:11: ComplexWarning: Casting complex values to real discards the imaginary part\n",
      "  return int(np.round(np.prod(eigv[eigv > 0.0000001])/L.shape[0]))\n",
      "/mnt/c/Users/Kristoforus/Desktop/Y4S1/Capstone/tree_jump_proposal/utils/dp_solution.py:11: ComplexWarning: Casting complex values to real discards the imaginary part\n",
      "  return int(np.round(np.prod(eigv[eigv > 0.0000001])/L.shape[0]))\n",
      "/mnt/c/Users/Kristoforus/Desktop/Y4S1/Capstone/tree_jump_proposal/utils/dp_solution.py:11: ComplexWarning: Casting complex values to real discards the imaginary part\n",
      "  return int(np.round(np.prod(eigv[eigv > 0.0000001])/L.shape[0]))\n",
      "/mnt/c/Users/Kristoforus/Desktop/Y4S1/Capstone/tree_jump_proposal/utils/dp_solution.py:11: ComplexWarning: Casting complex values to real discards the imaginary part\n",
      "  return int(np.round(np.prod(eigv[eigv > 0.0000001])/L.shape[0]))\n",
      "/mnt/c/Users/Kristoforus/Desktop/Y4S1/Capstone/tree_jump_proposal/utils/dp_solution.py:11: ComplexWarning: Casting complex values to real discards the imaginary part\n",
      "  return int(np.round(np.prod(eigv[eigv > 0.0000001])/L.shape[0]))\n",
      "/mnt/c/Users/Kristoforus/Desktop/Y4S1/Capstone/tree_jump_proposal/utils/dp_solution.py:11: ComplexWarning: Casting complex values to real discards the imaginary part\n",
      "  return int(np.round(np.prod(eigv[eigv > 0.0000001])/L.shape[0]))\n"
     ]
    },
    {
     "name": "stdout",
     "output_type": "stream",
     "text": [
      "Running brute force method: 2\n",
      "Running dp method2\n"
     ]
    },
    {
     "name": "stderr",
     "output_type": "stream",
     "text": [
      "/mnt/c/Users/Kristoforus/Desktop/Y4S1/Capstone/tree_jump_proposal/utils/dp_solution.py:11: ComplexWarning: Casting complex values to real discards the imaginary part\n",
      "  return int(np.round(np.prod(eigv[eigv > 0.0000001])/L.shape[0]))\n"
     ]
    },
    {
     "name": "stdout",
     "output_type": "stream",
     "text": [
      "Running brute force method: 3\n",
      "Running dp method3\n"
     ]
    },
    {
     "name": "stderr",
     "output_type": "stream",
     "text": [
      "/mnt/c/Users/Kristoforus/Desktop/Y4S1/Capstone/tree_jump_proposal/utils/dp_solution.py:11: ComplexWarning: Casting complex values to real discards the imaginary part\n",
      "  return int(np.round(np.prod(eigv[eigv > 0.0000001])/L.shape[0]))\n",
      "/mnt/c/Users/Kristoforus/Desktop/Y4S1/Capstone/tree_jump_proposal/utils/dp_solution.py:11: ComplexWarning: Casting complex values to real discards the imaginary part\n",
      "  return int(np.round(np.prod(eigv[eigv > 0.0000001])/L.shape[0]))\n",
      "/mnt/c/Users/Kristoforus/Desktop/Y4S1/Capstone/tree_jump_proposal/utils/dp_solution.py:11: ComplexWarning: Casting complex values to real discards the imaginary part\n",
      "  return int(np.round(np.prod(eigv[eigv > 0.0000001])/L.shape[0]))\n",
      "/mnt/c/Users/Kristoforus/Desktop/Y4S1/Capstone/tree_jump_proposal/utils/dp_solution.py:11: ComplexWarning: Casting complex values to real discards the imaginary part\n",
      "  return int(np.round(np.prod(eigv[eigv > 0.0000001])/L.shape[0]))\n",
      "/mnt/c/Users/Kristoforus/Desktop/Y4S1/Capstone/tree_jump_proposal/utils/dp_solution.py:11: ComplexWarning: Casting complex values to real discards the imaginary part\n",
      "  return int(np.round(np.prod(eigv[eigv > 0.0000001])/L.shape[0]))\n"
     ]
    },
    {
     "name": "stdout",
     "output_type": "stream",
     "text": [
      "Running brute force method: 4\n"
     ]
    }
   ],
   "source": [
    "for i in range(len(Graphs)): \n",
    "    result[i] = {}\n",
    "    result[i]['n'] = len(Graphs[i][0].nodes)\n",
    "    result[i]['m'] = len(Graphs[i][0].edges)\n",
    "    result[i]['k'] = Graphs[i][1]\n",
    "    \n",
    "    print('Running brute force method: ' + str(i))\n",
    "    start = time.time()\n",
    "    result[i]['brute_count'] = count_spanning_partitions_brute(Graphs[i][0], Graphs[i][1])\n",
    "    result[i]['brute_time'] = time.time() - start \n",
    "    \n",
    "    print('Running dp method: ' + str(i))\n",
    "    start = time.time()\n",
    "    result[i]['dp_count'],_ = count_spanning_partitions(Graphs[i][0], Graphs[i][1], {})\n",
    "    result[i]['dp_time'] = time.time() - start\n",
    "    \n",
    "    outfile = open('data/simulation_results.pkl', 'wb')\n",
    "    pickle.dump(result,outfile)\n",
    "    outfile.close()"
   ]
  },
  {
   "cell_type": "code",
   "execution_count": 8,
   "metadata": {},
   "outputs": [
    {
     "data": {
      "image/png": "[encoded data removed]",
      "text/plain": [
       "<Figure size 432x288 with 1 Axes>"
      ]
     },
     "metadata": {},
     "output_type": "display_data"
    }
   ],
   "source": [
    "nx.draw_shell(Graphs[3][0], with_labels=True)"
   ]
  },
  {
   "cell_type": "code",
   "execution_count": 8,
   "metadata": {},
   "outputs": [
    {
     "data": {
      "text/plain": [
       "{0: {'n': 5,\n",
       "  'm': 9,\n",
       "  'k': 3,\n",
       "  'brute_count': 6834,\n",
       "  'brute_time': 0.09199833869934082,\n",
       "  'dp_count': 6834,\n",
       "  'dp_time': 0.26671266555786133},\n",
       " 1: {'n': 6,\n",
       "  'm': 13,\n",
       "  'k': 3,\n",
       "  'brute_count': 103776,\n",
       "  'brute_time': 40.92973184585571,\n",
       "  'dp_count': 103776,\n",
       "  'dp_time': 57.6461455821991},\n",
       " 2: {'n': 7,\n",
       "  'm': 14,\n",
       "  'k': 3,\n",
       "  'brute_count': 1042480,\n",
       "  'brute_time': 167.92493224143982,\n",
       "  'dp_count': 1042480,\n",
       "  'dp_time': 128.5339629650116},\n",
       " 3: {'n': 10,\n",
       "  'm': 16,\n",
       "  'k': 2,\n",
       "  'brute_count': 0,\n",
       "  'brute_time': 2.0036916732788086,\n",
       "  'dp_count': -16572,\n",
       "  'dp_time': 252.3335268497467}}"
      ]
     },
     "execution_count": 8,
     "metadata": {},
     "output_type": "execute_result"
    }
   ],
   "source": [
    "result"
   ]
  },
  {
   "cell_type": "code",
   "execution_count": 42,
   "metadata": {},
   "outputs": [
    {
     "data": {
      "text/plain": [
       "{0: {'n': 5,\n",
       "  'm': 9,\n",
       "  'k': 3,\n",
       "  'brute_count': 6834,\n",
       "  'brute_time': 0.07973384857177734,\n",
       "  'dp_count': 6834.0,\n",
       "  'dp_time': 0.2721726894378662},\n",
       " 1: {'n': 6,\n",
       "  'm': 13,\n",
       "  'k': 3,\n",
       "  'brute_count': 103776,\n",
       "  'brute_time': 37.967275619506836,\n",
       "  'dp_count': 103776.0,\n",
       "  'dp_time': 61.47677540779114},\n",
       " 2: {'n': 7,\n",
       "  'm': 14,\n",
       "  'k': 3,\n",
       "  'brute_count': 1042480,\n",
       "  'brute_time': 202.8726305961609,\n",
       "  'dp_count': 1042480.0,\n",
       "  'dp_time': 139.59373927116394},\n",
       " 3: {'n': 10, 'm': 16, 'k': 2}}"
      ]
     },
     "execution_count": 42,
     "metadata": {},
     "output_type": "execute_result"
    }
   ],
   "source": [
    "result"
   ]
  }
 ],
 "metadata": {
  "kernelspec": {
   "display_name": "deeplearning",
   "language": "python",
   "name": "deeplearning"
  },
  "language_info": {
   "codemirror_mode": {
    "name": "ipython",
    "version": 3
   },
   "file_extension": ".py",
   "mimetype": "text/x-python",
   "name": "python",
   "nbconvert_exporter": "python",
   "pygments_lexer": "ipython3",
   "version": "3.8.3"
  }
 },
 "nbformat": 4,
 "nbformat_minor": 2
}
